{
 "cells": [
  {
   "cell_type": "markdown",
   "id": "3e6b35e6-3d42-4399-a845-6482b2f1e880",
   "metadata": {},
   "source": [
    "# LMS CLI Python Code Examples\n",
    "\n",
    "Various code examples.\n",
    "Before running these download the lms_jsonrpc_module from this repository.\n",
    "\n",
    "**[Download lms_jsonrpc_module.py](https://github.com/Daksol/LMS-CLI-Minimal/blob/main/Languages/Python/lms_jsonrpc_module.py)**"
   ]
  },
  {
   "cell_type": "markdown",
   "id": "3b062f93-d4ac-4fa0-a72b-9008f8c3a6a0",
   "metadata": {},
   "source": [
    "## Make sure it works - `serverstatus` command"
   ]
  },
  {
   "cell_type": "code",
   "execution_count": 8,
   "id": "bcb6ff7a-9ee4-4ce9-8f6b-b0e0a06a184f",
   "metadata": {},
   "outputs": [
    {
     "name": "stdout",
     "output_type": "stream",
     "text": [
      "{\n",
      "    \"lastscan\": \"1721448044\",\n",
      "    \"version\": \"9.0.0\",\n",
      "    \"uuid\": \"9caf975e-f502-47db-ad3e-135ab16a86fa\",\n",
      "    \"ip\": \"192.168.5.75\",\n",
      "    \"httpport\": \"9005\",\n",
      "    \"info total albums\": 589,\n",
      "    \"info total artists\": 623,\n",
      "    \"info total genres\": 108,\n",
      "    \"info total songs\": 9615,\n",
      "    \"info total duration\": 7477002.51200002,\n",
      "    \"player count\": 4,\n",
      "    \"other player count\": 0\n",
      "}\n"
     ]
    }
   ],
   "source": [
    "from lms_jsonrpc_module import lms_jsonrpc\n",
    "import json\n",
    "myLMS = ('192.168.5.75', '9005') # Modify this line for your LMS\n",
    "\n",
    "serverstatus_response = lms_jsonrpc(lms=myLMS, cmdlist=['serverstatus'])\n",
    "print(json.dumps(serverstatus_response, indent=4))"
   ]
  },
  {
   "cell_type": "markdown",
   "id": "57477d71-04d8-4877-8b87-1cfbe2e17351",
   "metadata": {},
   "source": [
    "## See the module's info string\n",
    "Includes information on the parameters"
   ]
  },
  {
   "cell_type": "code",
   "execution_count": null,
   "id": "e51e57cf-c5ed-4d0b-a366-03c7d0af454f",
   "metadata": {},
   "outputs": [],
   "source": [
    "from lms_jsonrpc_module import lms_jsonrpc\n",
    "print(lms_jsonrpc.__doc__)"
   ]
  },
  {
   "cell_type": "markdown",
   "id": "b3f41d4c-4160-43f3-be93-9e947511d880",
   "metadata": {},
   "source": [
    "## Using `player` command"
   ]
  },
  {
   "cell_type": "code",
   "execution_count": 32,
   "id": "ec60de4b-c3c7-4358-9e68-51e45c6bec08",
   "metadata": {},
   "outputs": [
    {
     "name": "stdout",
     "output_type": "stream",
     "text": [
      "Player count:4\n",
      "0 00:04:20:2a:e0:74 Some New Name\n",
      "1 a0:ce:c8:ce:a1:3b SLX-Local\n",
      "2 00:04:20:2a:c8:20 Scarlet Study\n",
      "3 00:04:20:28:c7:f1 Stalking Horse\n"
     ]
    }
   ],
   "source": [
    "from lms_jsonrpc_module import lms_jsonrpc\n",
    "myLMS = ('192.168.5.75', '9005') # Modify this line for your LMS\n",
    "\n",
    "playercount = lms_jsonrpc(lms=myLMS, cmdlist=['player', 'count', '?'])['_count']\n",
    "print(f'Player count:{playercount}')\n",
    "\n",
    "for p_index in range(playercount):\n",
    "    p_id = lms_jsonrpc(lms=myLMS, cmdlist=['player', 'id',p_index, '?'])['_id']\n",
    "    p_name = lms_jsonrpc(lms=myLMS, cmdlist=['player', 'name',p_index, '?'])['_name']\n",
    "    print(p_index, p_id, p_name)"
   ]
  },
  {
   "cell_type": "markdown",
   "id": "d088616e-a54f-46ed-a058-f31e13826452",
   "metadata": {},
   "source": [
    "## Using `players` command\n",
    "\n",
    "Response to the players command includes a list consisting of one dictionary for each player.\n",
    "That dictionary contains all available attributes for a player."
   ]
  },
  {
   "cell_type": "code",
   "execution_count": 15,
   "id": "fcac0af6-e6fa-4da2-8190-89697bd637ac",
   "metadata": {},
   "outputs": [
    {
     "name": "stdout",
     "output_type": "stream",
     "text": [
      "Number of players:4\n",
      "Full response to players command\n",
      "{'count': 4, 'players_loop': [{'playerindex': '0', 'playerid': '00:04:20:2a:e0:74', 'uuid': '7147ee259b66f5c9c39c0eb14cfefb5c', 'ip': '192.168.5.101:40417', 'name': 'Runcible Red', 'seq_no': '4', 'model': 'baby', 'modelname': 'Squeezebox Radio', 'power': 1, 'isplaying': 0, 'displaytype': 'none', 'isplayer': 1, 'canpoweroff': 1, 'connected': 1, 'firmware': '8.5.0-r16962'}, {'playerindex': 1, 'playerid': 'a0:ce:c8:ce:a1:3b', 'uuid': None, 'ip': '192.168.5.20:59739', 'name': 'SLX-Local', 'seq_no': 0, 'model': 'squeezelite', 'modelname': 'Squeezelite-X', 'power': 1, 'isplaying': 0, 'displaytype': 'none', 'isplayer': 1, 'canpoweroff': 1, 'connected': 1, 'firmware': 'v1.9.9-1419'}, {'playerindex': 2, 'playerid': '00:04:20:2a:c8:20', 'uuid': '98ed07ac996bd5667d70375a872ea2e9', 'ip': '192.168.5.104:50997', 'name': 'Scarlet Study', 'seq_no': '10', 'model': 'baby', 'modelname': 'Squeezebox Radio', 'power': 1, 'isplaying': 0, 'displaytype': 'none', 'isplayer': 1, 'canpoweroff': 1, 'connected': 1, 'firmware': '8.5.0-r16962'}, {'playerindex': 3, 'playerid': '00:04:20:28:c7:f1', 'uuid': 'ca1c8fbf2d48cbb1c859b5ea7ce4ecf9', 'ip': '192.168.5.102:55455', 'name': 'Stalking Horse', 'seq_no': '3', 'model': 'baby', 'modelname': 'Squeezebox Radio', 'power': 1, 'isplaying': 0, 'displaytype': 'none', 'isplayer': 1, 'canpoweroff': 1, 'connected': 1, 'firmware': '8.5.0-r16962'}]}\n",
      "\n",
      "Showing only the players_loop object\n",
      "[\n",
      "    {\n",
      "        \"playerindex\": \"0\",\n",
      "        \"playerid\": \"00:04:20:2a:e0:74\",\n",
      "        \"uuid\": \"7147ee259b66f5c9c39c0eb14cfefb5c\",\n",
      "        \"ip\": \"192.168.5.101:40417\",\n",
      "        \"name\": \"Runcible Red\",\n",
      "        \"seq_no\": \"4\",\n",
      "        \"model\": \"baby\",\n",
      "        \"modelname\": \"Squeezebox Radio\",\n",
      "        \"power\": 1,\n",
      "        \"isplaying\": 0,\n",
      "        \"displaytype\": \"none\",\n",
      "        \"isplayer\": 1,\n",
      "        \"canpoweroff\": 1,\n",
      "        \"connected\": 1,\n",
      "        \"firmware\": \"8.5.0-r16962\"\n",
      "    },\n",
      "    {\n",
      "        \"playerindex\": 1,\n",
      "        \"playerid\": \"a0:ce:c8:ce:a1:3b\",\n",
      "        \"uuid\": null,\n",
      "        \"ip\": \"192.168.5.20:59739\",\n",
      "        \"name\": \"SLX-Local\",\n",
      "        \"seq_no\": 0,\n",
      "        \"model\": \"squeezelite\",\n",
      "        \"modelname\": \"Squeezelite-X\",\n",
      "        \"power\": 1,\n",
      "        \"isplaying\": 0,\n",
      "        \"displaytype\": \"none\",\n",
      "        \"isplayer\": 1,\n",
      "        \"canpoweroff\": 1,\n",
      "        \"connected\": 1,\n",
      "        \"firmware\": \"v1.9.9-1419\"\n",
      "    },\n",
      "    {\n",
      "        \"playerindex\": 2,\n",
      "        \"playerid\": \"00:04:20:2a:c8:20\",\n",
      "        \"uuid\": \"98ed07ac996bd5667d70375a872ea2e9\",\n",
      "        \"ip\": \"192.168.5.104:50997\",\n",
      "        \"name\": \"Scarlet Study\",\n",
      "        \"seq_no\": \"10\",\n",
      "        \"model\": \"baby\",\n",
      "        \"modelname\": \"Squeezebox Radio\",\n",
      "        \"power\": 1,\n",
      "        \"isplaying\": 0,\n",
      "        \"displaytype\": \"none\",\n",
      "        \"isplayer\": 1,\n",
      "        \"canpoweroff\": 1,\n",
      "        \"connected\": 1,\n",
      "        \"firmware\": \"8.5.0-r16962\"\n",
      "    },\n",
      "    {\n",
      "        \"playerindex\": 3,\n",
      "        \"playerid\": \"00:04:20:28:c7:f1\",\n",
      "        \"uuid\": \"ca1c8fbf2d48cbb1c859b5ea7ce4ecf9\",\n",
      "        \"ip\": \"192.168.5.102:55455\",\n",
      "        \"name\": \"Stalking Horse\",\n",
      "        \"seq_no\": \"3\",\n",
      "        \"model\": \"baby\",\n",
      "        \"modelname\": \"Squeezebox Radio\",\n",
      "        \"power\": 1,\n",
      "        \"isplaying\": 0,\n",
      "        \"displaytype\": \"none\",\n",
      "        \"isplayer\": 1,\n",
      "        \"canpoweroff\": 1,\n",
      "        \"connected\": 1,\n",
      "        \"firmware\": \"8.5.0-r16962\"\n",
      "    }\n",
      "]\n"
     ]
    }
   ],
   "source": [
    "from lms_jsonrpc_module import lms_jsonrpc\n",
    "import json\n",
    "myLMS = ('192.168.5.75', '9005') # Modify this line for your LMS\n",
    "\n",
    "playercount = lms_jsonrpc(lms=myLMS, cmdlist=['players'])['count']\n",
    "print(f'Number of players:{playercount}')\n",
    "\n",
    "players_raw = lms_jsonrpc(lms=myLMS, cmdlist = ['players',0,playercount])\n",
    "\n",
    "print(\"Full response to players command\")\n",
    "print(players_raw)\n",
    "print()\n",
    "\n",
    "players_loop = players_raw['players_loop']\n",
    "print(\"Showing only the players_loop object\")\n",
    "print(json.dumps(players_loop, indent=4)) \n",
    "\n"
   ]
  },
  {
   "cell_type": "markdown",
   "id": "c253e8fa-10af-481e-9cf2-95fb3b461d1b",
   "metadata": {},
   "source": [
    "## Using `name` command\n",
    "The `name` command is an example of a player command which requires an initial parameter of the player's Mac address.\n",
    "This is passed to the module via named parameter, eg\n",
    "`player='aa:bb:cc:dd:ee:ff'\n",
    "\n",
    "In the code below:\n",
    "* First get a player's id using `player id` command.\n",
    "* Then use `name` command to query the player's name.\n",
    "* And use `name` command again to change the player's name."
   ]
  },
  {
   "cell_type": "code",
   "execution_count": 34,
   "id": "2220af79-2964-4ff3-bffe-8deb84809851",
   "metadata": {},
   "outputs": [
    {
     "name": "stdout",
     "output_type": "stream",
     "text": [
      "id (mac address) for the index 0 player is 00:04:20:2a:e0:74\n",
      "Existing name: Runcible Red\n",
      "\n",
      "Full response from server from the name command\n",
      "{'method': 'slim.request', 'id': '', 'result': {}, 'params': ['00:04:20:2a:e0:74', ['name', 'Some New Name']]}\n",
      "\n",
      "New name of player: Some New Name\n"
     ]
    }
   ],
   "source": [
    "from lms_jsonrpc_module import lms_jsonrpc\n",
    "myLMS = ('192.168.5.75', '9005') # Modify this line for your LMS\n",
    "\n",
    "# First get the id (Mac address) for player with index 0\n",
    "\n",
    "p_index0_id = lms_jsonrpc(lms=myLMS, cmdlist=['player', 'id', 0, '?'])['_id']\n",
    "print(f'id (mac address) for the index 0 player is {p_index0_id}')\n",
    "\n",
    "# Now get existing name of player with index 0\n",
    "p_index0_name = lms_jsonrpc(lms=myLMS, player=p_index0_id, cmdlist=['name', '?'])['_value']\n",
    "print(f'Existing name: {p_index0_name}')\n",
    "print()\n",
    "\n",
    "newname = \"Some New Name\"\n",
    "\n",
    "# Use name command to change player name\n",
    "# Taking option full_response=True\n",
    "\n",
    "name_fullresponse = lms_jsonrpc(lms=myLMS, player=p_index0_id, cmdlist=['name', newname], full_response=True)\n",
    "print(\"Full response from server from the name command\")\n",
    "print(name_fullresponse)\n",
    "print()\n",
    "print(f'New name of player: {lms_jsonrpc(lms=myLMS, player=p_index0_id, cmdlist=[\"name\", \"?\"])[\"_value\"]}')\n",
    "\n"
   ]
  },
  {
   "cell_type": "code",
   "execution_count": null,
   "id": "3221944b-a924-4b33-922d-724c1ae76bc6",
   "metadata": {},
   "outputs": [],
   "source": []
  }
 ],
 "metadata": {
  "kernelspec": {
   "display_name": "Python 3 (ipykernel)",
   "language": "python",
   "name": "python3"
  },
  "language_info": {
   "codemirror_mode": {
    "name": "ipython",
    "version": 3
   },
   "file_extension": ".py",
   "mimetype": "text/x-python",
   "name": "python",
   "nbconvert_exporter": "python",
   "pygments_lexer": "ipython3",
   "version": "3.11.9"
  }
 },
 "nbformat": 4,
 "nbformat_minor": 5
}
